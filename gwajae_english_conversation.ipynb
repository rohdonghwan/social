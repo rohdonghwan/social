{
 "cells": [
  {
   "cell_type": "code",
   "execution_count": 2,
   "id": "0e2967c9",
   "metadata": {},
   "outputs": [
    {
     "name": "stdout",
     "output_type": "stream",
     "text": [
      "Collecting requests\n",
      "  Using cached requests-2.27.1-py2.py3-none-any.whl (63 kB)\n",
      "Collecting idna<4,>=2.5\n",
      "  Using cached idna-3.3-py3-none-any.whl (61 kB)\n",
      "Requirement already satisfied: certifi>=2017.4.17 in /home/donghwan/anaconda3/envs/social/lib/python3.7/site-packages (from requests) (2021.10.8)\n",
      "Collecting urllib3<1.27,>=1.21.1\n",
      "  Using cached urllib3-1.26.9-py2.py3-none-any.whl (138 kB)\n",
      "Collecting charset-normalizer~=2.0.0\n",
      "  Using cached charset_normalizer-2.0.12-py3-none-any.whl (39 kB)\n",
      "Installing collected packages: urllib3, idna, charset-normalizer, requests\n",
      "Successfully installed charset-normalizer-2.0.12 idna-3.3 requests-2.27.1 urllib3-1.26.9\n"
     ]
    }
   ],
   "source": [
    "!pip install requests"
   ]
  },
  {
   "cell_type": "code",
   "execution_count": 3,
   "id": "a58454f1",
   "metadata": {},
   "outputs": [
    {
     "name": "stdout",
     "output_type": "stream",
     "text": [
      "자바 기초 프로그래밍 강좌를 완강했습니다.\n",
      "컴잘알에 오신 것을 환영합니다.\n"
     ]
    }
   ],
   "source": [
    "import requests\n",
    "from bs4 import BeautifulSoup\n",
    "\n",
    "request = requests.get(\"http://www.dowellcomputer.com/main.jsp\")\n",
    "html = request.text\n",
    "soup = BeautifulSoup(html, 'html.parser')\n",
    "links = soup.select('td > a')\n",
    "for link in links:\n",
    "    if link.has_attr('href'):\n",
    "        if link.get('href').find('notice') != -1:\n",
    "            print(link.text)"
   ]
  },
  {
   "cell_type": "code",
   "execution_count": 5,
   "id": "be885a96",
   "metadata": {},
   "outputs": [
    {
     "name": "stdout",
     "output_type": "stream",
     "text": [
      "총 75 개의 주제를 찾았습니다.\n",
      "['Family', 'Restaurant', 'Books', 'Travel', 'Website', 'Accident', 'Childhood memory', 'Favorite rooms', 'Presents', 'Historical place', 'Newspaper/ Magazine', 'A memorable event', 'A favorite subject', 'A museum', 'A favorite movie', 'A foreign country', 'Parties', 'A teacher', 'A friend', 'A hotel', 'A letter', 'Hobbies', 'Music', 'Shopping', 'Holiday', 'Animals', 'A practical skill', 'Sport', 'A School', 'Festival', 'Food', 'Household appliance', 'A music band', 'Weather', 'Neighbor', 'Natural scenery', 'Outdoor activities', 'Law', 'Pollution', 'Traffic jam', 'TV program', 'Architect/ Building', 'Electronic Media', 'Job/ Career', 'Competition/ contest', 'A garden', 'Hometown', 'Clothing', 'Advertisement', 'A project', 'A wedding', 'A Coffee shop', 'Culture', 'Transport', 'Politician', 'Communication', 'Business', 'Computer', 'Exercise', 'Goal/ ambition', 'Art', 'Fashion', 'Jewelry', 'Cosmetic', 'Indoor Game', 'Phone conversation', 'Learning A Second language', 'A\\xa0Creative Person', 'A celebrity', 'A Health Problem', 'Technological advancements', 'A Landmark', 'Handcraft Items', 'Plastic Surgery', 'Success']\n"
     ]
    }
   ],
   "source": [
    "import requests\n",
    "from bs4 import BeautifulSoup\n",
    "\n",
    "class Conversation:\n",
    "    def __init__(self, question, answer):\n",
    "        self.question = question\n",
    "        self.answer = answer\n",
    "        \n",
    "    def __str__(self):\n",
    "        return \"질문: \" + self.question + '\\n답변: ' + self.answer + '\\n'\n",
    "        \n",
    "def get_subjects():\n",
    "    subjects = []\n",
    "    request = requests.get('https://basicenglishspeaking.com/daily-english-conversation-topics/')\n",
    "    html = request.text\n",
    "    soup = BeautifulSoup(html, 'html.parser')\n",
    "    \n",
    "    divs = soup.find_all('div', {'class': 'thrv_wrapper thrv-columns'})\n",
    "    for div in divs:\n",
    "        links = div.find_all('a')\n",
    "\n",
    "        for link in links:\n",
    "            subject = link.text\n",
    "            subjects.append(subject)\n",
    "            \n",
    "    return subjects\n",
    "\n",
    "subjects = get_subjects()\n",
    "print('총', len(subjects), '개의 주제를 찾았습니다.')\n",
    "print(subjects)"
   ]
  },
  {
   "cell_type": "code",
   "execution_count": 6,
   "id": "46d9dc9c",
   "metadata": {},
   "outputs": [
    {
     "name": "stdout",
     "output_type": "stream",
     "text": [
      "( 1 / 75 ) Family\n",
      "총 10 개의 대화를 찾았습니다.\n",
      "질문: How many people are there in your family?\n",
      "답변: There are 5 people in my family: my father, mother, brother, sister, and me.\n",
      "\n",
      "질문: Does your family live in a house or an apartment?\n",
      "답변: We live in a house in the countryside.\n",
      "\n",
      "질문: What does your father do?\n",
      "답변: My father is a doctor. He works at the local hospital.\n",
      "\n",
      "질문: How old is your mother?\n",
      "답변: She is 40 years old, 1 year younger than my father.\n",
      "\n",
      "질문: Do you have any siblings? What’s his/her name?\n",
      "답변: Yes, I do. I have 1 elder brother, David, and 1 younger sister, Mary.\n",
      "\n",
      "질문: Are you the oldest amongst your brothers and sisters?\n",
      "답변: No, I’m not. I’m the second child in my family.\n",
      "\n",
      "질문: What does your mother/father like?\n",
      "답변: My father likes playing football and my mother likes cooking.\n",
      "\n",
      "질문: Do your parents let you stay out late?\n",
      "답변: Of course not. They always ask me to get home before 10 pm each night.\n",
      "\n",
      "질문: Do you stay with your parents?\n",
      "답변: Right now, no, but I used to.\n",
      "\n",
      "질문: Does your family usually have dinner together?\n",
      "답변: Yes, we do. My mom always prepares delicious meals for us.\n",
      "\n"
     ]
    }
   ],
   "source": [
    "conversations = []\n",
    "i = 1\n",
    "for sub in subjects:\n",
    "    print('(', i, '/', len(subjects), ')', sub)\n",
    "    request = requests.get('https://basicenglishspeaking.com/' + sub)\n",
    "    html = request.text\n",
    "    soup = BeautifulSoup(html, 'html.parser')\n",
    "    \n",
    "    qnas = soup.find_all('div', {'class': 'sc_player_container1'})\n",
    "    for qna in qnas:\n",
    "        if qnas.index(qna) % 2 == 0:\n",
    "            q = qna.next_sibling\n",
    "        else:\n",
    "            a = qna.next_sibling\n",
    "            c = Conversation(q, a)\n",
    "            conversations.append(c)\n",
    "    i = i + 1\n",
    "    \n",
    "    if i == 2:\n",
    "        break\n",
    "\n",
    "print('총', len(conversations), '개의 대화를 찾았습니다.')\n",
    "\n",
    "for c in conversations:\n",
    "    print(str(c))"
   ]
  },
  {
   "cell_type": "code",
   "execution_count": 7,
   "id": "ac3f15aa",
   "metadata": {},
   "outputs": [
    {
     "name": "stdout",
     "output_type": "stream",
     "text": [
      "<script>\n",
      "alert('탈퇴한 회원입니다.');\n",
      "location.href='./memberLoginForm.jsp';\n",
      "</script>\n",
      "\n"
     ]
    }
   ],
   "source": [
    "import requests\n",
    "from bs4 import BeautifulSoup as bs\n",
    "\n",
    "MEMBER_DATA = {\n",
    "    'memberID': 'a',\n",
    "    'memberPassword': 'a'\n",
    "}\n",
    "with requests.Session() as s:\n",
    "    request = s.post('http://dowellcomputer.com/member/memberLoginAction.jsp', data=MEMBER_DATA)\n",
    "    \n",
    "print(request.text)"
   ]
  },
  {
   "cell_type": "code",
   "execution_count": 10,
   "id": "f764d332",
   "metadata": {},
   "outputs": [],
   "source": [
    "reuqest = s.get('http://dowellcomputer.com/member/memberUpdateForm.jsp?ID=a')\n",
    "if (request.text.find('탈퇴') == -1):\n",
    "    soup = bs(request.text, 'html.parser')\n",
    "    result = soup.find_all('input', {\"name\": \"memberEmail\"})\n",
    "    print(result[0].get('value'))"
   ]
  },
  {
   "cell_type": "code",
   "execution_count": null,
   "id": "25eeb3aa",
   "metadata": {},
   "outputs": [],
   "source": []
  }
 ],
 "metadata": {
  "kernelspec": {
   "display_name": "Python 3 (ipykernel)",
   "language": "python",
   "name": "python3"
  },
  "language_info": {
   "codemirror_mode": {
    "name": "ipython",
    "version": 3
   },
   "file_extension": ".py",
   "mimetype": "text/x-python",
   "name": "python",
   "nbconvert_exporter": "python",
   "pygments_lexer": "ipython3",
   "version": "3.7.13"
  }
 },
 "nbformat": 4,
 "nbformat_minor": 5
}
