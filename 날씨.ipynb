{
 "cells": [
  {
   "cell_type": "markdown",
   "id": "fac71aad",
   "metadata": {},
   "source": [
    "## request 라이브러리"
   ]
  },
  {
   "cell_type": "markdown",
   "id": "077719b0",
   "metadata": {},
   "source": [
    "웹 페이지를 다운로드하기 위한 라이브러리\n",
    "\n",
    "https://2.python-requests.org/en/master/user/quickstart/"
   ]
  },
  {
   "cell_type": "code",
   "execution_count": null,
   "id": "1cf466b5",
   "metadata": {},
   "outputs": [],
   "source": [
    "import requests\n",
    "\n",
    "page = requests.get(\"https://dataquestio.github.io/web-scraping-pages/simple.html\")\n",
    "page"
   ]
  },
  {
   "cell_type": "code",
   "execution_count": null,
   "id": "3efab795",
   "metadata": {},
   "outputs": [],
   "source": [
    "# status_code 의미\n",
    "# 2xx: 성공\n",
    "# 4xx: 클라이언트 에러\n",
    "# 5xx: 서버 에러\n",
    "page.status_code"
   ]
  },
  {
   "cell_type": "code",
   "execution_count": null,
   "id": "8060e62e",
   "metadata": {},
   "outputs": [],
   "source": [
    "# binary response content\n",
    "page.content"
   ]
  },
  {
   "cell_type": "markdown",
   "id": "d3b9b5b9",
   "metadata": {},
   "source": [
    "## BeautifulSoup 라이브러리"
   ]
  },
  {
   "cell_type": "code",
   "execution_count": null,
   "id": "0dfbc003",
   "metadata": {},
   "outputs": [],
   "source": [
    "from bs4 import BeautifulSoup\n",
    "soup = BeautifulSoup(page.content, 'html.parser')"
   ]
  },
  {
   "cell_type": "code",
   "execution_count": null,
   "id": "1f6f76a3",
   "metadata": {},
   "outputs": [],
   "source": [
    "print(soup.prettify())"
   ]
  },
  {
   "cell_type": "code",
   "execution_count": null,
   "id": "1ac7b6a4",
   "metadata": {},
   "outputs": [],
   "source": [
    "list(soup.children)"
   ]
  },
  {
   "cell_type": "code",
   "execution_count": null,
   "id": "77e4809b",
   "metadata": {},
   "outputs": [],
   "source": [
    "# Doctype: 문서 타입에 대한 정보\n",
    "# NavigableString: HTML 문서에서 찾아낸 텍스트\n",
    "# Tag: 중첩(nested) 태그\n",
    "[type(item) for item in list(soup.children)]"
   ]
  },
  {
   "cell_type": "code",
   "execution_count": null,
   "id": "55f0ffcf",
   "metadata": {},
   "outputs": [],
   "source": [
    "# html 태그 안의 자식에 대한 결과\n",
    "html = list(soup.children)[2]\n",
    "list(html.children)"
   ]
  },
  {
   "cell_type": "code",
   "execution_count": null,
   "id": "70e1522d",
   "metadata": {},
   "outputs": [],
   "source": [
    "# body 태그 안 자식에 대한 결과\n",
    "body = list(html.children)[3]\n",
    "list(body.children)"
   ]
  },
  {
   "cell_type": "code",
   "execution_count": null,
   "id": "b4d3c01b",
   "metadata": {},
   "outputs": [],
   "source": [
    "# p 태그 안 텍스트\n",
    "p = list(body.children)[1]\n",
    "p.get_text()"
   ]
  },
  {
   "cell_type": "markdown",
   "id": "6a975ba6",
   "metadata": {},
   "source": [
    "## 태그명으로 태그 검색"
   ]
  },
  {
   "cell_type": "code",
   "execution_count": null,
   "id": "1f1c2728",
   "metadata": {},
   "outputs": [],
   "source": [
    "soup = BeautifulSoup(page.content, 'html.parser')\n",
    "soup.find_all('p')"
   ]
  },
  {
   "cell_type": "code",
   "execution_count": null,
   "id": "a561a6e8",
   "metadata": {},
   "outputs": [],
   "source": [
    "# find_all은 list를 리턴함\n",
    "# 따라서 첫 번째 텍스트를 얻기 위해 다음과 같이 함\n",
    "soup.find_all('p')[0].get_text()"
   ]
  },
  {
   "cell_type": "code",
   "execution_count": null,
   "id": "427ce030",
   "metadata": {},
   "outputs": [],
   "source": [
    "# 첫 번째 인스턴스만 찾기 원할 경우 find 이용\n",
    "soup.find('p')"
   ]
  },
  {
   "cell_type": "markdown",
   "id": "371f845c",
   "metadata": {},
   "source": [
    "## class와 id로 태그 검색"
   ]
  },
  {
   "cell_type": "code",
   "execution_count": null,
   "id": "8afc758a",
   "metadata": {},
   "outputs": [],
   "source": [
    "page = requests.get(\"https://dataquestio.github.io/web-scraping-pages/ids_and_classes.html\")\n",
    "soup = BeautifulSoup(page.content, 'html.parser')\n",
    "soup"
   ]
  },
  {
   "cell_type": "code",
   "execution_count": null,
   "id": "9c9bd815",
   "metadata": {},
   "outputs": [],
   "source": [
    "soup.find_all('p', class_='outer-text')"
   ]
  },
  {
   "cell_type": "code",
   "execution_count": null,
   "id": "cf5aaaed",
   "metadata": {},
   "outputs": [],
   "source": [
    "soup.find_all(class_=\"outer-text\")"
   ]
  },
  {
   "cell_type": "markdown",
   "id": "34dd41e1",
   "metadata": {},
   "source": [
    "## CSS 선택자"
   ]
  },
  {
   "cell_type": "markdown",
   "id": "c604876f",
   "metadata": {},
   "source": [
    "p a — finds all a tags inside of a p tag.\n",
    "\n",
    "body p a — finds all a tags inside of a p tag inside of a body tag.\n",
    "\n",
    "html body — finds all body tags inside of an html tag.\n",
    "\n",
    "p.outer-text — finds all p tags with a class of outer-text.\n",
    "\n",
    "p#first — finds all p tags with an id of first.\n",
    "\n",
    "body p.outer-text — finds any p tags with a class of outer-text inside of a body tag."
   ]
  },
  {
   "cell_type": "code",
   "execution_count": null,
   "id": "425835c6",
   "metadata": {},
   "outputs": [],
   "source": [
    "soup.select(\"div p\")"
   ]
  },
  {
   "cell_type": "markdown",
   "id": "e04cb514",
   "metadata": {},
   "source": [
    "## 날씨 데이터 스크래핑\n"
   ]
  },
  {
   "cell_type": "markdown",
   "id": "58b2200b",
   "metadata": {},
   "source": [
    "https://forecast.weather.gov/MapClick.php?lat=37.7772&lon=-122.4168"
   ]
  },
  {
   "cell_type": "markdown",
   "id": "2cb94f6e",
   "metadata": {},
   "source": [
    "날씨 예보 웹 페이지 다운로드\n",
    "\n",
    "웹 페이지 파싱하기 위한 BeautifulSoup 객체 생성\n",
    "\n",
    "id가 seven-day-forecast인 div 태그 찾고 이를 seven_day에 할당\n",
    "\n",
    "seven_day 내부에서 예보 아이템 찾기\n",
    "\n",
    "첫 번째 예보 아이템 추출 및 출력"
   ]
  },
  {
   "cell_type": "code",
   "execution_count": null,
   "id": "e0073111",
   "metadata": {},
   "outputs": [],
   "source": [
    "page = requests.get(\"https://forecast.weather.gov/MapClick.php?lat=37.7772&lon=-122.4168\")\n",
    "soup = BeautifulSoup(page.content, 'html.parser')\n",
    "seven_day = soup.find(id=\"seven-day-forecast\")\n",
    "forecast_items = seven_day.find_all(class_=\"tombstone-container\")\n",
    "tonight = forecast_items[0]\n",
    "print(tonight.prettify())"
   ]
  },
  {
   "cell_type": "markdown",
   "id": "c89d449b",
   "metadata": {},
   "source": [
    "tonight 변수 안의 정보 추출\n",
    "\n",
    "예보 아이템 이름: Tonight\n",
    "\n",
    "예보 설명: img 태그 안의 title 속성\n",
    "\n",
    "짧은 예보 설명: 위 경우에는 Mostly Clear임\n",
    "\n",
    "최저 기온: 위 경우에는 47도"
   ]
  },
  {
   "cell_type": "code",
   "execution_count": null,
   "id": "9ea62702",
   "metadata": {},
   "outputs": [],
   "source": [
    "period = tonight.find(class_=\"period-name\").get_text()\n",
    "short_desc = tonight.find(class_=\"short-desc\").get_text()\n",
    "temp = tonight.find(class_=\"temp\").get_text()\n",
    "print(period)\n",
    "print(short_desc)\n",
    "print(temp)"
   ]
  },
  {
   "cell_type": "code",
   "execution_count": null,
   "id": "bf7baf76",
   "metadata": {},
   "outputs": [],
   "source": [
    "img = tonight.find(\"img\")\n",
    "desc = img['title']\n",
    "print(desc)"
   ]
  },
  {
   "cell_type": "markdown",
   "id": "a76efbec",
   "metadata": {},
   "source": [
    "## 모든 정보 추출하기"
   ]
  },
  {
   "cell_type": "markdown",
   "id": "c5f159dd",
   "metadata": {},
   "source": [
    "변수 seven_day에서 class가 tombstone-container인 아이템 내부에서 class가 period-name인 모든 아이템을 선택\n",
    "\n",
    "get_text 메소드 호출하여 리스트 생성"
   ]
  },
  {
   "cell_type": "code",
   "execution_count": null,
   "id": "1c1f54ad",
   "metadata": {},
   "outputs": [],
   "source": [
    "period_tags = seven_day.select(\".tombstone-container .period-name\")\n",
    "periods = [pt.get_text() for pt in period_tags]\n",
    "periods"
   ]
  },
  {
   "cell_type": "code",
   "execution_count": null,
   "id": "264124ef",
   "metadata": {},
   "outputs": [],
   "source": [
    "short_descs = [sd.get_text() for sd in seven_day.select(\".tombstone-container .short-desc\")]\n",
    "temps = [t.get_text() for t in seven_day.select(\".tombstone-container .temp\")]\n",
    "descs = [d[\"title\"] for d in seven_day.select(\".tombstone-container img\")]\n",
    "print(short_descs)\n",
    "print(temps)\n",
    "print(descs)"
   ]
  },
  {
   "cell_type": "code",
   "execution_count": null,
   "id": "a122545c",
   "metadata": {},
   "outputs": [],
   "source": [
    "import pandas as pd\n",
    "weather = pd.DataFrame({\n",
    "    \"period\": periods,\n",
    "    \"short_desc\": short_descs,\n",
    "    \"temp\": temps,\n",
    "    \"desc\":descs\n",
    "})\n",
    "weather"
   ]
  },
  {
   "cell_type": "code",
   "execution_count": null,
   "id": "6915aa23",
   "metadata": {},
   "outputs": [],
   "source": [
    "temp_nums = weather[\"temp\"].str.extract(r'(?P<digit>\\d+)', expand=False)\n",
    "weather[\"temp_num\"] = temp_nums.astype('int')\n",
    "temp_nums"
   ]
  },
  {
   "cell_type": "code",
   "execution_count": null,
   "id": "8c8cee8f",
   "metadata": {},
   "outputs": [],
   "source": [
    "weather[\"temp_num\"].mean()"
   ]
  },
  {
   "cell_type": "code",
   "execution_count": null,
   "id": "2b289c95",
   "metadata": {},
   "outputs": [],
   "source": [
    "is_night = weather[\"temp\"].str.contains(\"Low\")\n",
    "weather[\"is_night\"] = is_night\n",
    "is_night"
   ]
  },
  {
   "cell_type": "code",
   "execution_count": null,
   "id": "5dc6c6b8",
   "metadata": {},
   "outputs": [],
   "source": [
    "weather[is_night]"
   ]
  }
 ],
 "metadata": {
  "kernelspec": {
   "display_name": "Python 3",
   "language": "python",
   "name": "python3"
  }
 },
 "nbformat": 4,
 "nbformat_minor": 5
}
